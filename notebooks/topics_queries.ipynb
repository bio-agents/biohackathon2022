{
 "cells": [
  {
   "cell_type": "markdown",
   "id": "932e6c75-1868-465d-8f83-b87b18c03bca",
   "metadata": {},
   "source": [
    "## Set up\n",
    "First you need to install GraphDB locally on you machine"
   ]
  },
  {
   "cell_type": "code",
   "execution_count": null,
   "id": "6d3694cb-8dff-47ab-b399-85221c863731",
   "metadata": {},
   "outputs": [],
   "source": [
    "from rdflib import ConjunctiveGraph\n",
    "from SPARQLWrapper import SPARQLWrapper, JSON\n",
    "import matplotlib.pyplot as plt\n",
    "from matplotlib_venn import venn2\n",
    "import numpy as np\n",
    "from IPython.display import display, HTML\n",
    "\n",
    "\n",
    "import pandas as pd\n",
    "\n",
    "def remoteQuery(query, endpoint):\n",
    "    endpoint.setQuery(query)\n",
    "    try:\n",
    "        result = endpoint.queryAndConvert()\n",
    "        pd.set_option(\"display.max_rows\",None,\"display.max_colwidth\",6000,\"display.width\",6000,)\n",
    "        df = pd.DataFrame(result['results']['bindings'])\n",
    "        df = df.applymap(lambda x: x['value'])\n",
    "        return df\n",
    "        #return (result['results']['bindings'])\n",
    "    except Exception as e:\n",
    "        print(e)"
   ]
  },
  {
   "cell_type": "markdown",
   "id": "315d49b3-bfa7-4f9b-a41a-0fa34d23eec4",
   "metadata": {},
   "source": [
    "\n",
    "### With a GraphDB SPARQL endpoint\n",
    "\n",
    "The input for SPARQLWrapper is the link to the GraphDB repository where you loaded the appropriate data set, in this example the dev version of EDAM (https://raw.githubusercontent.com/edamontology/edamontology/main/EDAM_dev.owl) and a bio.agents bioschemas turtle file (https://raw.githubusercontent.com/bio-agents/content/master/datasets/bioschemas-dump.ttl) was loaded in the GrapphDB repository. \n"
   ]
  },
  {
   "cell_type": "code",
   "execution_count": null,
   "id": "05043ff1-2a6b-4c1b-b9b7-5a2997d26f81",
   "metadata": {},
   "outputs": [],
   "source": [
    "ep_bioagents = SPARQLWrapper(\"http://localhost:7200/repositories/Project25\")\n",
    "ep_bioagents.setReturnFormat(JSON)"
   ]
  },
  {
   "cell_type": "markdown",
   "id": "9c76e048-9e19-4c68-8eb0-ef5fd8102699",
   "metadata": {},
   "source": [
    "## How many EDAM topics are used to annotate bio.agents?"
   ]
  },
  {
   "cell_type": "code",
   "execution_count": null,
   "id": "181711ce-ba70-4d28-bdc7-df65e7169d7b",
   "metadata": {},
   "outputs": [],
   "source": [
    "q= \"\"\"\n",
    "PREFIX rdf: <http://www.w3.org/1999/02/22-rdf-syntax-ns#>\n",
    "PREFIX rdfs: <http://www.w3.org/2000/01/rdf-schema#>\n",
    "SELECT  DISTINCT?topic ?label WHERE {\n",
    "?x rdf:type <http://schema.org/SoftwareApplication> ;\n",
    "   <http://schema.org/name> ?name ; \n",
    "   <http://schema.org/applicationSubCategory> ?topic .\n",
    "   ?topic rdfs:label ?label .\n",
    "} GROUP BY ?topic ?label\n",
    "\"\"\""
   ]
  },
  {
   "cell_type": "code",
   "execution_count": null,
   "id": "cf1e6ce4-b982-4f39-a1f2-374447afaa7b",
   "metadata": {},
   "outputs": [],
   "source": [
    "print(f\"nb of EDAM topics used in bio.agents: {len(remoteQuery(query=q, endpoint=ep_bioagents))}\")\n",
    "results=remoteQuery(query=q, endpoint=ep_bioagents)\n",
    "display(HTML(\"<div style='height: 200px; overflow: auto; width: fit-content'>\" +\n",
    "             results.to_html() +\n",
    "             \"</div>\"))"
   ]
  },
  {
   "cell_type": "markdown",
   "id": "bed2bf52-5c6e-4338-8209-f56a2ea6b6b8",
   "metadata": {},
   "source": [
    "## How many bio.agents entries are annotated with EDAM topics?"
   ]
  },
  {
   "cell_type": "code",
   "execution_count": null,
   "id": "f586f804-a734-4d9f-99e1-e2ba3bf19ed5",
   "metadata": {},
   "outputs": [],
   "source": [
    "q_2= \"\"\"\n",
    "PREFIX rdf: <http://www.w3.org/1999/02/22-rdf-syntax-ns#>\n",
    "PREFIX rdfs: <http://www.w3.org/2000/01/rdf-schema#>\n",
    "SELECT  DISTINCT?entries  WHERE {\n",
    "?entries rdf:type <http://schema.org/SoftwareApplication> ;\n",
    "   <http://schema.org/name> ?name ; \n",
    "   <http://schema.org/applicationSubCategory> ?topic . \n",
    "} GROUP BY ?entries\n",
    "\"\"\""
   ]
  },
  {
   "cell_type": "code",
   "execution_count": null,
   "id": "c10b9d6f-6746-483c-86c7-cc33b2f9b649",
   "metadata": {},
   "outputs": [],
   "source": [
    "print(f\"nb of bioagents entries annotated with EDAM topics: {len(remoteQuery(query=q_2, endpoint=ep_bioagents))}\")\n",
    "results=remoteQuery(query=q_2, endpoint=ep_bioagents)\n",
    "display(HTML(\"<div style='height: 200px; overflow: auto; width: fit-content'>\" +\n",
    "             results.to_html() +\n",
    "             \"</div>\"))"
   ]
  },
  {
   "cell_type": "markdown",
   "id": "a5754233-dddd-4bbd-bf4c-bdcfb2970da3",
   "metadata": {},
   "source": [
    "## How many bio.agents entries are annotated with deprecated topics?"
   ]
  },
  {
   "cell_type": "code",
   "execution_count": null,
   "id": "a0b09aaa-b026-45cc-aa01-f4348ecc5bbc",
   "metadata": {},
   "outputs": [],
   "source": [
    "q= \"\"\"\n",
    "PREFIX rdf: <http://www.w3.org/1999/02/22-rdf-syntax-ns#>\n",
    "PREFIX rdfs: <http://www.w3.org/2000/01/rdf-schema#>\n",
    "\n",
    "SELECT  DISTINCT?agent WHERE {\n",
    "?agent rdf:type <http://schema.org/SoftwareApplication> ; \n",
    "   <http://schema.org/applicationSubCategory> ?topic.\n",
    "   ?topic rdfs:label ?label.\n",
    "?topic rdfs:subClassOf <http://www.w3.org/2002/07/owl#DeprecatedClass>.\n",
    "\n",
    "} GROUP BY ?agent\n",
    "\"\"\""
   ]
  },
  {
   "cell_type": "code",
   "execution_count": null,
   "id": "83b784b5-9812-4135-9658-b3d0f07bc0cb",
   "metadata": {},
   "outputs": [],
   "source": [
    "print(f\"nb of EDAM topics used in bio.agents: {len(remoteQuery(query=q, endpoint=ep_bioagents))}\")\n",
    "results=remoteQuery(query=q, endpoint=ep_bioagents)\n",
    "display(HTML(\"<div style='height: 200px; overflow: auto; width: fit-content'>\" +\n",
    "             results.to_html() +\n",
    "             \"</div>\"))"
   ]
  },
  {
   "cell_type": "markdown",
   "id": "b3ce6eae-2bfb-406f-9b92-c93fd2c76bae",
   "metadata": {},
   "source": [
    "## How many bio.agents entries are annotated with edam root topic concept?"
   ]
  },
  {
   "cell_type": "code",
   "execution_count": null,
   "id": "28892098-35d4-4df0-829e-f198d94e5763",
   "metadata": {},
   "outputs": [],
   "source": [
    "q= \"\"\"\n",
    "PREFIX rdf: <http://www.w3.org/1999/02/22-rdf-syntax-ns#>\n",
    "PREFIX rdfs: <http://www.w3.org/2000/01/rdf-schema#>\n",
    "SELECT  DISTINCT?agent  WHERE {\n",
    "?agent rdf:type <http://schema.org/SoftwareApplication> ;\n",
    "   <http://schema.org/name> ?name ; \n",
    "   <http://schema.org/applicationSubCategory> <http://edamontology.org/topic_0003> .\n",
    "} GROUP BY ?agent\n",
    "\"\"\""
   ]
  },
  {
   "cell_type": "code",
   "execution_count": null,
   "id": "97ae2999-baee-45ae-9cfd-5638babbfa66",
   "metadata": {},
   "outputs": [],
   "source": [
    "print(f\"nb of EDAM topics used in bio.agents: {len(remoteQuery(query=q, endpoint=ep_bioagents))}\")\n",
    "results=remoteQuery(query=q, endpoint=ep_bioagents)\n",
    "display(HTML(\"<div style='height: 200px; overflow: auto; width: fit-content'>\" +\n",
    "             results.to_html() +\n",
    "             \"</div>\"))"
   ]
  },
  {
   "cell_type": "markdown",
   "id": "9446dba0-aa21-40db-bf9a-92e5a074d7ea",
   "metadata": {},
   "source": [
    "## How many bio.agents entries have EDAM topics and operations?"
   ]
  },
  {
   "cell_type": "code",
   "execution_count": null,
   "id": "2cf9b8c0-e9d1-42d5-b88c-5071a3f7b187",
   "metadata": {},
   "outputs": [],
   "source": [
    "q= \"\"\"\n",
    "PREFIX rdf: <http://www.w3.org/1999/02/22-rdf-syntax-ns#>\n",
    "PREFIX rdfs: <http://www.w3.org/2000/01/rdf-schema#>\n",
    "SELECT  DISTINCT?agent  WHERE {\n",
    "?agent rdf:type <http://schema.org/SoftwareApplication> ;\n",
    "    <http://schema.org/featureList> ?operation; \n",
    "    <http://schema.org/applicationSubCategory> ?topic  .\n",
    "} GROUP BY ?agent\n",
    "\"\"\""
   ]
  },
  {
   "cell_type": "code",
   "execution_count": null,
   "id": "044e943a-ba2d-4cba-aaed-b6c3a1569dd8",
   "metadata": {},
   "outputs": [],
   "source": [
    "print(f\"nb of EDAM topics used in bio.agents: {len(remoteQuery(query=q, endpoint=ep_bioagents))}\")\n",
    "results=remoteQuery(query=q, endpoint=ep_bioagents)\n",
    "display(HTML(\"<div style='height: 200px; overflow: auto; width: fit-content'>\" +\n",
    "             results.to_html() +\n",
    "             \"</div>\"))"
   ]
  },
  {
   "cell_type": "markdown",
   "id": "1da75780-736e-441d-9281-086c6a8b811e",
   "metadata": {},
   "source": [
    "## How many bio.agents entries have EDAM data (for input and/or output) and topics?"
   ]
  },
  {
   "cell_type": "code",
   "execution_count": null,
   "id": "d1033a68-878e-46f8-acf2-7b9b6d15b4ed",
   "metadata": {},
   "outputs": [],
   "source": [
    "q= \"\"\"\n",
    "PREFIX rdf: <http://www.w3.org/1999/02/22-rdf-syntax-ns#>\n",
    "PREFIX rdfs: <http://www.w3.org/2000/01/rdf-schema#>\n",
    "PREFIX bsc: <http://bioschemas.org/>\n",
    "\n",
    "SELECT  DISTINCT?agent WHERE {\n",
    "{\n",
    "?agent rdf:type <http://schema.org/SoftwareApplication> ;\n",
    "    bsc:input [<http://schema.org/additionalType> ?data];\n",
    "    <http://schema.org/applicationSubCategory> ?topic . \n",
    "    } UNION {\n",
    "?agent rdf:type <http://schema.org/SoftwareApplication> ;\n",
    "   bsc:output [<http://schema.org/additionalType> ?data];\n",
    "    <http://schema.org/applicationSubCategory> ?topic  .\n",
    "}\n",
    "} GROUP BY ?agent\n",
    "\"\"\""
   ]
  },
  {
   "cell_type": "code",
   "execution_count": null,
   "id": "c8bf9fb6-9d71-44c0-a185-aad886edc7e0",
   "metadata": {},
   "outputs": [],
   "source": [
    "print(f\"nb of EDAM topics used in bio.agents: {len(remoteQuery(query=q, endpoint=ep_bioagents))}\")\n",
    "results=remoteQuery(query=q, endpoint=ep_bioagents)\n",
    "display(HTML(\"<div style='height: 200px; overflow: auto; width: fit-content'>\" +\n",
    "             results.to_html() +\n",
    "             \"</div>\"))"
   ]
  },
  {
   "cell_type": "markdown",
   "id": "c57ca0cc-e86a-4568-ae1b-9d4c221d79e9",
   "metadata": {},
   "source": [
    "## How many bio.agents entries have EDAM data (for both input and output) and topics? "
   ]
  },
  {
   "cell_type": "code",
   "execution_count": null,
   "id": "501d13ba-2860-468c-8bb7-884b7fbaad22",
   "metadata": {
    "tags": []
   },
   "outputs": [],
   "source": [
    "q= \"\"\"\n",
    "PREFIX rdf: <http://www.w3.org/1999/02/22-rdf-syntax-ns#>\n",
    "PREFIX rdfs: <http://www.w3.org/2000/01/rdf-schema#>\n",
    "PREFIX bsc: <http://bioschemas.org/>\n",
    "\n",
    "SELECT  DISTINCT ?agent WHERE {\n",
    "{\n",
    "?agent rdf:type <http://schema.org/SoftwareApplication> ;\n",
    "    bsc:input [<http://schema.org/additionalType> ?data].\n",
    "    } UNION {\n",
    "?agent rdf:type <http://schema.org/SoftwareApplication> ;\n",
    "   bsc:output [<http://schema.org/additionalType> ?data].\n",
    "}\n",
    " ?agent <http://schema.org/applicationSubCategory> ?topic  .\n",
    "} GROUP BY ?agent\n",
    "\"\"\""
   ]
  },
  {
   "cell_type": "code",
   "execution_count": null,
   "id": "396aeddf-c2fe-4d46-b1f7-9f5741bdc899",
   "metadata": {},
   "outputs": [],
   "source": [
    "print(f\"nb of EDAM topics used in bio.agents: {len(remoteQuery(query=q, endpoint=ep_bioagents))}\")\n",
    "results=remoteQuery(query=q, endpoint=ep_bioagents)\n",
    "display(HTML(\"<div style='height: 200px; overflow: auto; width: fit-content'>\" +\n",
    "             results.to_html() +\n",
    "             \"</div>\"))"
   ]
  },
  {
   "cell_type": "markdown",
   "id": "e94f1a06-ecc6-41b7-9ba8-b0b6fb4ae3da",
   "metadata": {},
   "source": [
    "## How many bio.agents entries have EDAM operations and data?"
   ]
  },
  {
   "cell_type": "code",
   "execution_count": null,
   "id": "e25c6855-bd1e-4b7f-9628-b20b90722524",
   "metadata": {},
   "outputs": [],
   "source": [
    "q= \"\"\"\n",
    "PREFIX rdf: <http://www.w3.org/1999/02/22-rdf-syntax-ns#>\n",
    "PREFIX rdfs: <http://www.w3.org/2000/01/rdf-schema#>\n",
    "PREFIX bsc: <http://bioschemas.org/>\n",
    "\n",
    "SELECT  DISTINCT?agent WHERE {\n",
    "{\n",
    "?agent rdf:type <http://schema.org/SoftwareApplication> ;\n",
    "    bsc:input [<http://schema.org/additionalType> ?data];\n",
    "    <http://schema.org/featureList> ?operation . \n",
    "    } UNION {\n",
    "?agent rdf:type <http://schema.org/SoftwareApplication> ;\n",
    "   bsc:output [<http://schema.org/additionalType> ?data];\n",
    "    <http://schema.org/featureList> ?operation  .\n",
    "}\n",
    "} GROUP BY ?agent\n",
    "\"\"\""
   ]
  },
  {
   "cell_type": "code",
   "execution_count": null,
   "id": "01fb7f39-8df6-4373-8e6b-cf084e6e2497",
   "metadata": {},
   "outputs": [],
   "source": [
    "print(f\"nb of EDAM topics used in bio.agents: {len(remoteQuery(query=q, endpoint=ep_bioagents))}\")\n",
    "results=remoteQuery(query=q, endpoint=ep_bioagents)\n",
    "display(HTML(\"<div style='height: 200px; overflow: auto; width: fit-content'>\" +\n",
    "             results.to_html() +\n",
    "             \"</div>\"))"
   ]
  },
  {
   "cell_type": "markdown",
   "id": "c26f75a6-eb91-429d-ad0b-cb9d97187461",
   "metadata": {},
   "source": [
    "## Operation + data + format"
   ]
  },
  {
   "cell_type": "code",
   "execution_count": null,
   "id": "2b354e3d-6a00-4fa4-8a18-54ee2f42048b",
   "metadata": {},
   "outputs": [],
   "source": [
    "q= \"\"\"\n",
    "PREFIX rdf: <http://www.w3.org/1999/02/22-rdf-syntax-ns#>\n",
    "PREFIX rdfs: <http://www.w3.org/2000/01/rdf-schema#>\n",
    "PREFIX bsc: <http://bioschemas.org/>\n",
    "SELECT  DISTINCT?agent  WHERE {\n",
    "?agent rdf:type <http://schema.org/SoftwareApplication> ;\n",
    "    <http://schema.org/featureList> ?operation;\n",
    "    {\n",
    "?agent bsc:input [<http://schema.org/additionalType> ?data].\n",
    "    } UNION {\n",
    "?agent bsc:output [<http://schema.org/additionalType> ?data].\n",
    "}\n",
    "{\n",
    "?agent bsc:input [<http://schema.org/encodingFormat> ?format].\n",
    "    } UNION {\n",
    "?agent bsc:output [<http://schema.org/encodingFormat> ?format].\n",
    "}\n",
    "    \n",
    "FILTER NOT EXISTS {\n",
    " ?agent <http://schema.org/applicationSubCategory> ?topic .\n",
    "    }\n",
    "} GROUP BY ?agent\n",
    "\"\"\""
   ]
  },
  {
   "cell_type": "code",
   "execution_count": null,
   "id": "d94a0804-8099-4b2a-b4a2-b8423e58e14d",
   "metadata": {},
   "outputs": [],
   "source": [
    "print(f\"nb of EDAM topics used in bio.agents: {len(remoteQuery(query=q, endpoint=ep_bioagents))}\")\n",
    "results=remoteQuery(query=q, endpoint=ep_bioagents)\n",
    "display(HTML(\"<div style='height: 200px; overflow: auto; width: fit-content'>\" +\n",
    "             results.to_html() +\n",
    "             \"</div>\"))"
   ]
  },
  {
   "cell_type": "markdown",
   "id": "c59c7daa-58dc-4ee2-95e9-2b730323f6b4",
   "metadata": {},
   "source": [
    "## Operation + data"
   ]
  },
  {
   "cell_type": "code",
   "execution_count": null,
   "id": "150256a4-effb-48fd-a968-9c038d819359",
   "metadata": {},
   "outputs": [],
   "source": [
    "q= \"\"\"\n",
    "PREFIX rdf: <http://www.w3.org/1999/02/22-rdf-syntax-ns#>\n",
    "PREFIX rdfs: <http://www.w3.org/2000/01/rdf-schema#>\n",
    "PREFIX bsc: <http://bioschemas.org/>\n",
    "SELECT  DISTINCT?agent  WHERE {\n",
    "?agent rdf:type <http://schema.org/SoftwareApplication> ;\n",
    "    <http://schema.org/featureList> ?operation;\n",
    "    {\n",
    "?agent bsc:input [<http://schema.org/additionalType> ?data].\n",
    "    } UNION {\n",
    "?agent bsc:output [<http://schema.org/additionalType> ?data].\n",
    "}\n",
    "    \n",
    "FILTER NOT EXISTS {\n",
    "{\n",
    "?agent bsc:input [<http://schema.org/encodingFormat> ?format].\n",
    "    } UNION {\n",
    "?agent bsc:output [<http://schema.org/encodingFormat> ?format].\n",
    "}\n",
    "    }\n",
    "FILTER NOT EXISTS {\n",
    " ?agent <http://schema.org/applicationSubCategory> ?topic }\n",
    "} GROUP BY ?agent\n",
    "\"\"\""
   ]
  },
  {
   "cell_type": "code",
   "execution_count": null,
   "id": "fe791155-43ab-4e6b-99c2-1de7a481243c",
   "metadata": {},
   "outputs": [],
   "source": [
    "print(f\"nb of EDAM topics used in bio.agents: {len(remoteQuery(query=q, endpoint=ep_bioagents))}\")\n",
    "results=remoteQuery(query=q, endpoint=ep_bioagents)\n",
    "display(HTML(\"<div style='height: 200px; overflow: auto; width: fit-content'>\" +\n",
    "             results.to_html() +\n",
    "             \"</div>\"))"
   ]
  },
  {
   "cell_type": "markdown",
   "id": "d51cc552-10be-4e59-bf2e-a15dab778656",
   "metadata": {},
   "source": [
    "## Operation"
   ]
  },
  {
   "cell_type": "code",
   "execution_count": null,
   "id": "833a19b1-23b3-4b2b-adeb-9a6cfa2c227c",
   "metadata": {},
   "outputs": [],
   "source": [
    "q= \"\"\"\n",
    "PREFIX rdf: <http://www.w3.org/1999/02/22-rdf-syntax-ns#>\n",
    "PREFIX rdfs: <http://www.w3.org/2000/01/rdf-schema#>\n",
    "PREFIX bsc: <http://bioschemas.org/>\n",
    "SELECT  DISTINCT?agent  WHERE {\n",
    "?agent rdf:type <http://schema.org/SoftwareApplication> ;\n",
    "    <http://schema.org/featureList> ?operation\n",
    "    \n",
    "FILTER NOT EXISTS {\n",
    " ?agent <http://schema.org/applicationSubCategory> ?topic \n",
    "}\n",
    "FILTER NOT EXISTS {        {\n",
    "?agent bsc:input [<http://schema.org/additionalType> ?data].\n",
    "    } UNION {\n",
    "?agent bsc:output [<http://schema.org/additionalType> ?data].\n",
    "}}\n",
    "} GROUP BY ?agent\n",
    "\"\"\""
   ]
  },
  {
   "cell_type": "code",
   "execution_count": null,
   "id": "baf66307-2058-4ed8-9d4d-ac66d177bed8",
   "metadata": {},
   "outputs": [],
   "source": [
    "print(f\"nb of EDAM topics used in bio.agents: {len(remoteQuery(query=q, endpoint=ep_bioagents))}\")\n",
    "results=remoteQuery(query=q, endpoint=ep_bioagents)\n",
    "display(HTML(\"<div style='height: 200px; overflow: auto; width: fit-content'>\" +\n",
    "             results.to_html() +\n",
    "             \"</div>\"))"
   ]
  },
  {
   "cell_type": "markdown",
   "id": "de2b6b95-655b-492e-9739-d857d9dc7669",
   "metadata": {},
   "source": [
    "## Operation + data + format + topic"
   ]
  },
  {
   "cell_type": "code",
   "execution_count": null,
   "id": "d1e79d7b-2e37-4471-ba1b-608bb27fc472",
   "metadata": {},
   "outputs": [],
   "source": [
    "q= \"\"\"\n",
    "PREFIX rdf: <http://www.w3.org/1999/02/22-rdf-syntax-ns#>\n",
    "PREFIX rdfs: <http://www.w3.org/2000/01/rdf-schema#>\n",
    "PREFIX bsc: <http://bioschemas.org/>\n",
    "SELECT  DISTINCT?agent  WHERE {\n",
    "?agent rdf:type <http://schema.org/SoftwareApplication> ;\n",
    "    <http://schema.org/featureList> ?operation ;\n",
    "    <http://schema.org/applicationSubCategory> ?topic\n",
    "    {\n",
    "?agent bsc:input [<http://schema.org/encodingFormat> ?format].\n",
    "    } UNION {\n",
    "?agent bsc:output [<http://schema.org/encodingFormat> ?format].\n",
    "}      {\n",
    "?agent bsc:input [<http://schema.org/additionalType> ?data].\n",
    "    } UNION {\n",
    "?agent bsc:output [<http://schema.org/additionalType> ?data].\n",
    "}\n",
    "    \n",
    "} GROUP BY ?agent\n",
    "\"\"\""
   ]
  },
  {
   "cell_type": "code",
   "execution_count": null,
   "id": "5518b9c0-fd4a-411f-8460-5044bd190ace",
   "metadata": {},
   "outputs": [],
   "source": [
    "print(f\"nb of EDAM topics used in bio.agents: {len(remoteQuery(query=q, endpoint=ep_bioagents))}\")\n",
    "results=remoteQuery(query=q, endpoint=ep_bioagents)\n",
    "display(HTML(\"<div style='height: 200px; overflow: auto; width: fit-content'>\" +\n",
    "             results.to_html() +\n",
    "             \"</div>\"))"
   ]
  },
  {
   "cell_type": "markdown",
   "id": "4135f9e8-50e2-4fb0-91eb-bfb270137472",
   "metadata": {},
   "source": [
    "## Operation + data + topic"
   ]
  },
  {
   "cell_type": "code",
   "execution_count": null,
   "id": "4ed5655b-bdca-463b-85c0-33d253697d94",
   "metadata": {},
   "outputs": [],
   "source": [
    "q= \"\"\"\n",
    "PREFIX rdf: <http://www.w3.org/1999/02/22-rdf-syntax-ns#>\n",
    "PREFIX rdfs: <http://www.w3.org/2000/01/rdf-schema#>\n",
    "PREFIX bsc: <http://bioschemas.org/>\n",
    "SELECT  DISTINCT?agent  WHERE {\n",
    "?agent rdf:type <http://schema.org/SoftwareApplication> ;\n",
    "    <http://schema.org/featureList> ?operation;\n",
    "    <http://schema.org/applicationSubCategory> ?topic \n",
    "    {\n",
    "?agent bsc:input [<http://schema.org/additionalType> ?data].\n",
    "    } UNION {\n",
    "?agent bsc:output [<http://schema.org/additionalType> ?data].\n",
    "}\n",
    "\n",
    "    \n",
    "FILTER NOT EXISTS {\n",
    " {\n",
    "?agent bsc:input [<http://schema.org/encodingFormat> ?format].\n",
    "    } UNION {\n",
    "?agent bsc:output [<http://schema.org/encodingFormat> ?format].\n",
    "}\n",
    "    }\n",
    "} GROUP BY ?agent\n",
    "\"\"\""
   ]
  },
  {
   "cell_type": "code",
   "execution_count": null,
   "id": "1bd40dbf-b721-431c-8552-0f877c6afd1b",
   "metadata": {},
   "outputs": [],
   "source": [
    "print(f\"nb of EDAM topics used in bio.agents: {len(remoteQuery(query=q, endpoint=ep_bioagents))}\")\n",
    "results=remoteQuery(query=q, endpoint=ep_bioagents)\n",
    "display(HTML(\"<div style='height: 200px; overflow: auto; width: fit-content'>\" +\n",
    "             results.to_html() +\n",
    "             \"</div>\"))"
   ]
  },
  {
   "cell_type": "markdown",
   "id": "c8fad251-1be5-4df3-adbf-423a946ff7f7",
   "metadata": {},
   "source": [
    "## Operation + topic"
   ]
  },
  {
   "cell_type": "code",
   "execution_count": null,
   "id": "c564d4c5-9f32-4bc2-b30d-7afaf6a5981c",
   "metadata": {},
   "outputs": [],
   "source": [
    "q= \"\"\"\n",
    "PREFIX rdf: <http://www.w3.org/1999/02/22-rdf-syntax-ns#>\n",
    "PREFIX rdfs: <http://www.w3.org/2000/01/rdf-schema#>\n",
    "PREFIX bsc: <http://bioschemas.org/>\n",
    "SELECT  DISTINCT?agent  WHERE {\n",
    "?agent rdf:type <http://schema.org/SoftwareApplication> ;\n",
    "    <http://schema.org/featureList> ?operation;\n",
    "    <http://schema.org/applicationSubCategory> ?topic \n",
    "\n",
    "\n",
    "    \n",
    "FILTER NOT EXISTS {\n",
    "    {\n",
    "?agent bsc:input [<http://schema.org/additionalType> ?data].\n",
    "    } UNION {\n",
    "?agent bsc:output [<http://schema.org/additionalType> ?data].\n",
    "}\n",
    "    }\n",
    "    \n",
    "FILTER NOT EXISTS {\n",
    " {\n",
    "?agent bsc:input [<http://schema.org/encodingFormat> ?format].\n",
    "    } UNION {\n",
    "?agent bsc:output [<http://schema.org/encodingFormat> ?format].\n",
    "}\n",
    "    }\n",
    "} GROUP BY ?agent\n",
    "\"\"\""
   ]
  },
  {
   "cell_type": "code",
   "execution_count": null,
   "id": "82cb3849-cb40-42d6-86b7-f93eba800310",
   "metadata": {},
   "outputs": [],
   "source": [
    "print(f\"nb of EDAM topics used in bio.agents: {len(remoteQuery(query=q, endpoint=ep_bioagents))}\")\n",
    "results=remoteQuery(query=q, endpoint=ep_bioagents)\n",
    "display(HTML(\"<div style='height: 200px; overflow: auto; width: fit-content'>\" +\n",
    "             results.to_html() +\n",
    "             \"</div>\"))\n",
    "results.to_csv(\"~\\OneDrive\\Dokumenter\\\\bioagents\\github\\\\biohackathon2022\\\\notebooks\\\\operation+topic.csv\", index=False, header=False)"
   ]
  },
  {
   "cell_type": "markdown",
   "id": "bf8494a4-f307-4aae-b41f-4525576d9a9d",
   "metadata": {},
   "source": [
    "## Topic"
   ]
  },
  {
   "cell_type": "code",
   "execution_count": null,
   "id": "d816dd95-5be8-4e09-83d9-7eb90e53ac15",
   "metadata": {},
   "outputs": [],
   "source": [
    "q= \"\"\"\n",
    "PREFIX rdf: <http://www.w3.org/1999/02/22-rdf-syntax-ns#>\n",
    "PREFIX rdfs: <http://www.w3.org/2000/01/rdf-schema#>\n",
    "PREFIX bsc: <http://bioschemas.org/>\n",
    "SELECT  DISTINCT?agent  WHERE {\n",
    "?agent rdf:type <http://schema.org/SoftwareApplication> ;\n",
    "    <http://schema.org/applicationSubCategory> ?topic\n",
    "    \n",
    "FILTER NOT EXISTS {\n",
    " ?agent <http://schema.org/featureList> ?operation}\n",
    "\n",
    "} GROUP BY ?agent\n",
    "\"\"\""
   ]
  },
  {
   "cell_type": "code",
   "execution_count": null,
   "id": "8120b398-40b7-4870-96d2-f3b0d167ab6a",
   "metadata": {},
   "outputs": [],
   "source": [
    "print(f\"nb of EDAM topics used in bio.agents: {len(remoteQuery(query=q, endpoint=ep_bioagents))}\")\n",
    "results=remoteQuery(query=q, endpoint=ep_bioagents)\n",
    "display(HTML(\"<div style='height: 200px; overflow: auto; width: fit-content'>\" +\n",
    "             results.to_html() +\n",
    "             \"</div>\"))\n",
    "results.to_csv(\"~\\OneDrive\\Dokumenter\\\\bioagents\\github\\\\biohackathon2022\\\\notebooks\\\\topic.csv\", index=False, header=False)"
   ]
  },
  {
   "cell_type": "markdown",
   "id": "2db2b7b1-db57-44d2-9e98-ee9da81d9b01",
   "metadata": {},
   "source": [
    "## None"
   ]
  },
  {
   "cell_type": "code",
   "execution_count": null,
   "id": "90e4431a-4cbd-4379-a8c5-9407f56194a6",
   "metadata": {},
   "outputs": [],
   "source": [
    "q= \"\"\"\n",
    "PREFIX rdf: <http://www.w3.org/1999/02/22-rdf-syntax-ns#>\n",
    "PREFIX rdfs: <http://www.w3.org/2000/01/rdf-schema#>\n",
    "PREFIX bsc: <http://bioschemas.org/>\n",
    "SELECT  DISTINCT?agent  WHERE {\n",
    "?agent rdf:type <http://schema.org/SoftwareApplication>.\n",
    "    \n",
    "FILTER NOT EXISTS {\n",
    " ?agent <http://schema.org/featureList> ?operation}\n",
    "\n",
    "FILTER NOT EXISTS { \n",
    "?agent <http://schema.org/applicationSubCategory> ?topic}\n",
    "} GROUP BY ?agent\n",
    "\"\"\""
   ]
  },
  {
   "cell_type": "code",
   "execution_count": null,
   "id": "f491648d-c644-4f66-9f23-cf8b2856924d",
   "metadata": {},
   "outputs": [],
   "source": [
    "print(f\"nb of EDAM topics used in bio.agents: {len(remoteQuery(query=q, endpoint=ep_bioagents))}\")\n",
    "results=remoteQuery(query=q, endpoint=ep_bioagents)\n",
    "display(HTML(\"<div style='height: 200px; overflow: auto; width: fit-content'>\" +\n",
    "             results.to_html() +\n",
    "             \"</div>\"))\n",
    "results.to_csv(\"~\\OneDrive\\Dokumenter\\\\bioagents\\github\\\\biohackathon2022\\\\notebooks\\\\none.csv\", index=False, header=False)"
   ]
  }
 ],
 "metadata": {
  "kernelspec": {
   "display_name": "Python 3.10.0 64-bit",
   "language": "python",
   "name": "python3"
  },
  "language_info": {
   "codemirror_mode": {
    "name": "ipython",
    "version": 3
   },
   "file_extension": ".py",
   "mimetype": "text/x-python",
   "name": "python",
   "nbconvert_exporter": "python",
   "pygments_lexer": "ipython3",
   "version": "3.10.0"
  },
  "vscode": {
   "interpreter": {
    "hash": "0f4f2500dbffb9c4872834b5dbaeb59fe17224f4fc0fa19038d4e5c3182eef5a"
   }
  }
 },
 "nbformat": 4,
 "nbformat_minor": 5
}
