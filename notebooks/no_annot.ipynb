{
 "cells": [
  {
   "cell_type": "code",
   "execution_count": null,
   "metadata": {},
   "outputs": [],
   "source": [
    "from rdflib import ConjunctiveGraph\n",
    "from SPARQLWrapper import SPARQLWrapper, JSON\n",
    "import matplotlib.pyplot as plt\n",
    "from matplotlib_venn import venn2\n",
    "import numpy as np\n",
    "\n",
    "\n",
    "import pandas as pd\n",
    "\n",
    "def remoteQuery(query, endpoint):\n",
    "    endpoint.setQuery(query)\n",
    "    try:\n",
    "        result = endpoint.queryAndConvert()\n",
    "        pd.set_option(\"display.max_rows\",None,\"display.max_colwidth\",6000,\"display.width\",6000,)\n",
    "        df = pd.DataFrame(result['results']['bindings'])\n",
    "        df = df.applymap(lambda x: x['value'])\n",
    "        return df\n",
    "        #return (result['results']['bindings'])\n",
    "    except Exception as e:\n",
    "        print(e)\n",
    "ep_bioagents = SPARQLWrapper(\"http://localhost:7200/repositories/Project25\")\n",
    "ep_bioagents.setReturnFormat(JSON)"
   ]
  },
  {
   "cell_type": "markdown",
   "metadata": {},
   "source": [
    "## Checks for agents without any EDAM annotation "
   ]
  },
  {
   "cell_type": "code",
   "execution_count": null,
   "metadata": {},
   "outputs": [],
   "source": [
    "query=\"\"\" \n",
    "PREFIX edam:<http://edamontology.org/>\n",
    "PREFIX rdf: <http://www.w3.org/1999/02/22-rdf-syntax-ns#>\n",
    "PREFIX rdfs: <http://www.w3.org/2000/01/rdf-schema#>\n",
    "PREFIX owl: <http://www.w3.org/2002/07/owl#>\n",
    "PREFIX bsc: <http://bioschemas.org/>\n",
    "PREFIX bsct: <http://bioschemas.org/types/>\n",
    "PREFIX sc: <http://schema.org/>\n",
    "\n",
    "\n",
    "\n",
    "SELECT DISTINCT ?agent  WHERE {\n",
    "\n",
    "?agent rdf:type sc:SoftwareApplication ;\n",
    " FILTER NOT EXISTS {  \n",
    "   ?agent sc:applicationSubCategory ?topic.\n",
    "   }\n",
    " FILTER NOT EXISTS {  \n",
    "   ?agent    sc:featureList ?operation  .\n",
    "   }\n",
    "}\n",
    "\"\"\""
   ]
  },
  {
   "cell_type": "markdown",
   "metadata": {},
   "source": [
    "To analyse bio.agents a Bioschemas dump have been generated using json file for each agent, generated up to the beginning of 2022. Here a lot of agents reported as having no edam annotation have been updated in the bio.agents repository\n"
   ]
  },
  {
   "cell_type": "code",
   "execution_count": null,
   "metadata": {},
   "outputs": [],
   "source": [
    "results=remoteQuery(query=query, endpoint=ep_bioagents)\n",
    "print(int(len(results)))\n",
    "display(results)"
   ]
  },
  {
   "cell_type": "code",
   "execution_count": null,
   "metadata": {},
   "outputs": [],
   "source": []
  }
 ],
 "metadata": {
  "kernelspec": {
   "display_name": "Python 3.9.5 64-bit",
   "language": "python",
   "name": "python3"
  },
  "language_info": {
   "codemirror_mode": {
    "name": "ipython",
    "version": 3
   },
   "file_extension": ".py",
   "mimetype": "text/x-python",
   "name": "python",
   "nbconvert_exporter": "python",
   "pygments_lexer": "ipython3",
   "version": "3.9.5"
  },
  "vscode": {
   "interpreter": {
    "hash": "31f2aee4e71d21fbe5cf8b01ff0e069b9275f58929596ceb00d14d90e3e16cd6"
   }
  }
 },
 "nbformat": 4,
 "nbformat_minor": 2
}
